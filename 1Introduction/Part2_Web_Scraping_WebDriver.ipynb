{
 "cells": [
  {
   "cell_type": "markdown",
   "metadata": {},
   "source": [
    "# Introduction"
   ]
  },
  {
   "cell_type": "markdown",
   "metadata": {},
   "source": [
    "Aujourd'hui la plupart des sites web utilisent du JavaScript pour rendre le site plus dynamique et agréable mais aussi pour afficher la données. \n",
    "\n",
    "Pour ces sites, la première méthode abordée n'est pas efficace, car de nombreuses requêtes sont utilisées pour se connecter, afficher la donnée, naviguer, il faudrait prendre en compte toutes ces requêtes et les assembler pour simuler le comportement du site. \n",
    "\n",
    "**C'est le comportement de votre navigateur**, il compile toutes les interactions, les requêtes et génère du HTML permettant d'afficher l'interface graphique d'un site web.\n",
    "\n",
    "Pour palier ce problème on peut laisser le navigateur faire son travail et contrôler sa surcouche logiciel. Pour cela on peut prendre le contrôle d'un navigateur comme Chrome, Edge, Firefox ou Safari depuis un script Python. \n",
    "\n",
    "Pour cela, nous allons utiliser un package Python `Selenium` https://selenium-python.readthedocs.io/ qui permet d'instancier un navigateur et de le contrôler. Sélénium est beaucoup utilisé pour générer des tests automatiques de sites web. \n",
    "\n",
    "On peut trouver les drivers des différents browser : \n",
    "- Chrome:\thttps://sites.google.com/a/chromium.org/chromedriver/downloads\n",
    "- Edge:\thttps://developer.microsoft.com/en-us/microsoft-edge/tools/webdriver/\n",
    "- Firefox:\thttps://github.com/mozilla/geckodriver/releases\n",
    "- Safari:\thttps://webkit.org/blog/6900/webdriver-support-in-safari-10/"
   ]
  },
  {
   "cell_type": "code",
   "execution_count": 1,
   "metadata": {},
   "outputs": [],
   "source": [
    "from selenium import webdriver"
   ]
  },
  {
   "cell_type": "code",
   "execution_count": 2,
   "metadata": {},
   "outputs": [],
   "source": [
    "chrome = webdriver.Chrome(executable_path=\"./chromedriver\")"
   ]
  },
  {
   "cell_type": "markdown",
   "metadata": {},
   "source": [
    "Vous devez voir apparaître une nouvelle instance de votre navigateur. Si vous voulez accéder à une page : "
   ]
  },
  {
   "cell_type": "code",
   "execution_count": 3,
   "metadata": {},
   "outputs": [],
   "source": [
    "chrome.get(\"https://www.amazon.fr\")"
   ]
  },
  {
   "cell_type": "markdown",
   "metadata": {},
   "source": [
    "Allez maintenant voir votre fenêtre. Vous êtes sur le site d'amazon. Vous pouvez maintenant vous déplacer dans la page. Pour cela il va falloir inspecter le code source de la page.\n",
    "\n",
    "Il existe de nombreuse méthode pour récupérer les éléments par exemple `find_element_by_link_text` qui permet de récupérer un élément grâce au text affiché. Ici, si on veut récupérer toutes les `Ventes Flash`"
   ]
  },
  {
   "cell_type": "code",
   "execution_count": 4,
   "metadata": {},
   "outputs": [
    {
     "data": {
      "text/plain": [
       "selenium.webdriver.remote.webelement.WebElement"
      ]
     },
     "execution_count": 4,
     "metadata": {},
     "output_type": "execute_result"
    }
   ],
   "source": [
    "link = chrome.find_element_by_link_text(\"Ventes Flash\")\n",
    "type(link)"
   ]
  },
  {
   "cell_type": "markdown",
   "metadata": {},
   "source": [
    "Si on veut entrer dans le lien, il suffit d'appeler la méthode `click`."
   ]
  },
  {
   "cell_type": "code",
   "execution_count": 5,
   "metadata": {},
   "outputs": [],
   "source": [
    "link.click()"
   ]
  },
  {
   "cell_type": "markdown",
   "metadata": {},
   "source": [
    "Vous êtes arrivé sur la page des ventes flash. Maintenant nous allons récupérer toutes les ventes actuelles. On remarque que les ventes sont stockés dans des widgets qui porte l'id `widgetContent`."
   ]
  },
  {
   "cell_type": "code",
   "execution_count": 6,
   "metadata": {},
   "outputs": [
    {
     "data": {
      "text/plain": [
       "(list, 5)"
      ]
     },
     "execution_count": 6,
     "metadata": {},
     "output_type": "execute_result"
    }
   ],
   "source": [
    "all_widgets = chrome.find_elements_by_id(\"widgetContent\")\n",
    "type(all_widgets), len(all_widgets)"
   ]
  },
  {
   "cell_type": "markdown",
   "metadata": {},
   "source": [
    "On obtient une liste d'éléments décrits par cet identifiant. Il y en a 5, un pour chaque ligne. Pour récupérer les différentes offres de la première ligne. on récupère les sections correspondantes: "
   ]
  },
  {
   "cell_type": "code",
   "execution_count": 35,
   "metadata": {},
   "outputs": [
    {
     "data": {
      "text/plain": [
       "16"
      ]
     },
     "execution_count": 35,
     "metadata": {},
     "output_type": "execute_result"
    }
   ],
   "source": [
    "first_line = all_widgets[0]\n",
    "all_first_line_elements = first_line.find_elements_by_class_name('a-section')\n",
    "len(all_first_line_elements)"
   ]
  },
  {
   "cell_type": "markdown",
   "metadata": {},
   "source": [
    "Pour récupérer le text maintenant : "
   ]
  },
  {
   "cell_type": "code",
   "execution_count": 17,
   "metadata": {},
   "outputs": [
    {
     "name": "stdout",
     "output_type": "stream",
     "text": [
      "OFFRE DU JOUR\n",
      "179,99 € - 659,99 €\n",
      "Termine dans 12:37:27\n",
      "Arlo : Jusqu'à 35% de réduction sur une sélection de caméras\n",
      "73\n",
      "Voir l'offre\n",
      "\n",
      "OFFRE DU JOUR\n",
      "179,99 € - 659,99 €\n",
      "Termine dans 12:37:27\n",
      "Arlo : Jusqu'à 35% de réduction sur une sélection de caméras\n",
      "73\n",
      "Voir l'offre\n",
      "\n",
      "\n",
      "\n",
      "OFFRE DU JOUR\n",
      "179,99 € - 659,99 €\n",
      "Termine dans 12:37:27\n",
      "Arlo : Jusqu'à 35% de réduction sur une sélection de caméras\n",
      "73\n",
      "Voir l'offre\n",
      "\n",
      "OFFRE DU JOUR\n",
      "16,04 € - 183,99 €\n",
      "Termine dans 12:37:27\n",
      "SanDisk: Jusqu'à 40% de réduction une sélection de produits\n",
      "175\n",
      "Voir l'offre\n",
      "\n",
      "OFFRE DU JOUR\n",
      "16,04 € - 183,99 €\n",
      "Termine dans 12:37:27\n",
      "SanDisk: Jusqu'à 40% de réduction une sélection de produits\n",
      "175\n",
      "Voir l'offre\n",
      "\n",
      "\n",
      "\n",
      "OFFRE DU JOUR\n",
      "16,04 € - 183,99 €\n",
      "Termine dans 12:37:27\n",
      "SanDisk: Jusqu'à 40% de réduction une sélection de produits\n",
      "175\n",
      "Voir l'offre\n",
      "\n",
      "OFFRE DU JOUR\n",
      "349,00 €\n",
      "Prix : 499,00 € (-30%)\n",
      "Termine dans 12:32:28\n",
      "TD Systems TV 50 pouces Ultra HD 4K\n",
      "Vendu par TD Systems et expédié par Amazon\n",
      "40\n",
      "Ajouter au panier\n",
      "\n",
      "OFFRE DU JOUR\n",
      "349,00 €\n",
      "Prix : 499,00 € (-30%)\n",
      "Termine dans 12:32:28\n",
      "TD Systems TV 50 pouces Ultra HD 4K\n",
      "Vendu par TD Systems et expédié par Amazon\n",
      "40\n",
      "Ajouter au panier\n",
      "\n",
      "\n",
      "\n",
      "OFFRE DU JOUR\n",
      "349,00 €\n",
      "Prix : 499,00 € (-30%)\n",
      "Termine dans 12:32:27\n",
      "TD Systems TV 50 pouces Ultra HD 4K\n",
      "Vendu par TD Systems et expédié par Amazon\n",
      "40\n",
      "Ajouter au panier\n",
      "\n",
      "OFFRE DU JOUR\n",
      "149,90 €\n",
      "Termine dans 12:37:26\n",
      "Philips HD9642/20 Airfryer Blanc + Plateau\n",
      "Vendu et expédié par Amazon.fr\n",
      "61\n",
      "Ajouter au panier\n",
      "\n",
      "OFFRE DU JOUR\n",
      "149,90 €\n",
      "Termine dans 12:37:26\n",
      "Philips HD9642/20 Airfryer Blanc + Plateau\n",
      "Vendu et expédié par Amazon.fr\n",
      "61\n",
      "Ajouter au panier\n",
      "\n",
      "\n",
      "\n",
      "OFFRE DU JOUR\n",
      "149,90 €\n",
      "Termine dans 12:37:26\n",
      "Philips HD9642/20 Airfryer Blanc + Plateau\n",
      "Vendu et expédié par Amazon.fr\n",
      "61\n",
      "Ajouter au panier\n",
      "\n"
     ]
    }
   ],
   "source": [
    "_ = [print(elt.text+ \"\\n\")  for elt in all_first_line_elements]"
   ]
  },
  {
   "cell_type": "markdown",
   "metadata": {},
   "source": [
    "Si vous êtes fan de JavaScript vous pouvez même injecter du code JS dans le navigateur depuis Python pour exécuter des opérations complexes. "
   ]
  },
  {
   "cell_type": "code",
   "execution_count": 9,
   "metadata": {},
   "outputs": [],
   "source": [
    "js_script = \"\"\"\n",
    "const class_name = 'DRIOC'\n",
    "console.log(`Hi from ${class_name}`)\n",
    "\"\"\""
   ]
  },
  {
   "cell_type": "code",
   "execution_count": 10,
   "metadata": {},
   "outputs": [],
   "source": [
    "chrome.execute_script(js_script)"
   ]
  },
  {
   "cell_type": "markdown",
   "metadata": {},
   "source": [
    "Vous pouvez aller vérifier dans la console Javascript du navigateur que le message apparait bien. "
   ]
  },
  {
   "cell_type": "markdown",
   "metadata": {},
   "source": [
    "# Exercice"
   ]
  },
  {
   "cell_type": "markdown",
   "metadata": {},
   "source": [
    "## Exercice 1"
   ]
  },
  {
   "cell_type": "markdown",
   "metadata": {},
   "source": [
    "Extraire le prix des offres :"
   ]
  },
  {
   "cell_type": "code",
   "execution_count": 30,
   "metadata": {},
   "outputs": [
    {
     "data": {
      "text/plain": [
       "'179,99 € - 659,99 €'"
      ]
     },
     "execution_count": 30,
     "metadata": {},
     "output_type": "execute_result"
    }
   ],
   "source": [
    "def extract_price(offer_web_element):\n",
    "    return offer_web_element.find_element_by_class_name('priceBlock').text\n",
    "\n",
    "extract_price(all_first_line_elements[0])"
   ]
  },
  {
   "cell_type": "markdown",
   "metadata": {},
   "source": [
    "Extraire l'image de l'offre: "
   ]
  },
  {
   "cell_type": "code",
   "execution_count": 40,
   "metadata": {},
   "outputs": [
    {
     "data": {
      "text/plain": [
       "'https://images-na.ssl-images-amazon.com/images/I/31B4tfPxLyL._AA210_.jpg'"
      ]
     },
     "execution_count": 40,
     "metadata": {},
     "output_type": "execute_result"
    }
   ],
   "source": [
    "def extract_image(offer_web_element):\n",
    "    return offer_web_element.find_element_by_class_name('imageBlock').find_element_by_tag_name('img').get_attribute('src')\n",
    "\n",
    "extract_image(all_first_line_elements[0])"
   ]
  },
  {
   "cell_type": "markdown",
   "metadata": {},
   "source": [
    "Extraire le titre de l'offre: "
   ]
  },
  {
   "cell_type": "code",
   "execution_count": 43,
   "metadata": {},
   "outputs": [
    {
     "data": {
      "text/plain": [
       "\"Arlo : Jusqu'à 35% de réduction sur une sélection de caméras\""
      ]
     },
     "execution_count": 43,
     "metadata": {},
     "output_type": "execute_result"
    }
   ],
   "source": [
    "def extract_title(offer_web_element):\n",
    "    return offer_web_element.find_element_by_id('dealTitle').text\n",
    "\n",
    "extract_title(all_first_line_elements[0])"
   ]
  },
  {
   "cell_type": "code",
   "execution_count": 44,
   "metadata": {},
   "outputs": [],
   "source": [
    "chrome.close()"
   ]
  }
 ],
 "metadata": {
  "kernelspec": {
   "display_name": "Python 3",
   "language": "python",
   "name": "python3"
  },
  "language_info": {
   "codemirror_mode": {
    "name": "ipython",
    "version": 3
   },
   "file_extension": ".py",
   "mimetype": "text/x-python",
   "name": "python",
   "nbconvert_exporter": "python",
   "pygments_lexer": "ipython3",
   "version": "3.6.5"
  }
 },
 "nbformat": 4,
 "nbformat_minor": 2
}
